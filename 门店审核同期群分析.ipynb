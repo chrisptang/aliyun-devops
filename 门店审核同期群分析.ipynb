{
 "cells": [
  {
   "cell_type": "code",
   "execution_count": null,
   "metadata": {},
   "outputs": [],
   "source": [
    "from odps_client import get_odps_sql_result_as_df\n",
    "\n",
    "user_click_df=get_odps_sql_result_as_df(\"\"\"\n",
    "SELECT  cust_id\n",
    "        ,COUNT(DISTINCT ds) AS 活跃天数\n",
    "        ,COUNT(CASE    WHEN bid LIKE '%pid:goods,sku:%' THEN 1 END) 商品详情页点击次数\n",
    "        ,COUNT(CASE    WHEN bid LIKE '%pid:唤起购买%' OR pid = '唤起购买' THEN 1 END) 购物车卡片点击次数\n",
    "FROM    summerfarm_tech.dwd_log_mall_di a\n",
    "WHERE   a.ds >= '20240901'\n",
    "AND     envent_type = 'cl'\n",
    "GROUP BY cust_id\n",
    ";\"\"\")\n",
    "\n",
    "user_click_df.head(2)"
   ]
  },
  {
   "cell_type": "code",
   "execution_count": null,
   "metadata": {},
   "outputs": [],
   "source": [
    "user_register_df=get_odps_sql_result_as_df(\"\"\"\n",
    "SELECT  m_id AS cust_id\n",
    "        ,CASE   WHEN invitecode = 'seeegj' THEN '自主注册'\n",
    "                ELSE 'BD邀请'\n",
    "        END 是否自主注册\n",
    "        ,register_time 注册日期\n",
    "FROM    summerfarm_tech.ods_merchant_df\n",
    "WHERE   ds = MAX_PT(\"summerfarm_tech.ods_merchant_df\")\n",
    "AND     size = '单店'\n",
    "AND     register_time >= '2024-09-01 00:00:00'\n",
    "AND     islock = 0\n",
    "AND     operate_status IN (0,2,3) -- 0:已审核通过，2:待提交信息，3:已提交信息\n",
    ";\"\"\")\n",
    "\n",
    "user_register_df['注册日期'] = user_register_df['注册日期'].astype(str)\n",
    "user_register_df['注册日期'] = user_register_df['注册日期'].str.split(' ').str[0]\n",
    "user_register_df.head(2)"
   ]
  },
  {
   "cell_type": "code",
   "execution_count": null,
   "metadata": {},
   "outputs": [],
   "source": [
    "user_orders_df=get_odps_sql_result_as_df(\"\"\"\n",
    "SELECT  a.*\n",
    "        ,b.total_price\n",
    "        ,b.order_no\n",
    "        ,b.order_time\n",
    "FROM    (\n",
    "            SELECT  m_id AS cust_id\n",
    "                    ,CASE   WHEN invitecode = 'seeegj' THEN '自主注册'\n",
    "                            ELSE 'BD邀请'\n",
    "                    END 是否自主注册\n",
    "                    ,CASE   WHEN register_time > '2024-09-21 00:00:00' THEN '优化后注册'\n",
    "                            ELSE '优化前'\n",
    "                    END 是否优化后注册\n",
    "                    ,register_time\n",
    "            FROM    summerfarm_tech.ods_merchant_df\n",
    "            WHERE   ds = MAX_PT(\"summerfarm_tech.ods_merchant_df\")\n",
    "            AND     size = '单店'\n",
    "            AND     register_time >= '2024-09-14 00:00:00'\n",
    "            AND     register_time < '2024-09-29 00:00:00'\n",
    "            AND     islock = 0\n",
    "            AND     operate_status IN (0,2,3) -- 0:已审核通过，2:待提交信息，3:已提交信息\n",
    "        ) a\n",
    "LEFT JOIN summerfarm_tech.ods_orders_df b\n",
    "ON      b.ds = MAX_PT(\"summerfarm_tech.ods_orders_df\")\n",
    "AND     a.cust_id = b.m_id\n",
    "AND     b.order_time <= DATEADD(a.register_time,14,'dd') -- 注册后14天内的行为\n",
    ";\n",
    "\"\"\")\n",
    "\n",
    "user_orders_df.head(2)"
   ]
  },
  {
   "cell_type": "code",
   "execution_count": null,
   "metadata": {},
   "outputs": [],
   "source": [
    "import pandasql\n",
    "\n",
    "user_orders_df['total_price'].fillna(0.0, inplace=True)\n",
    "user_orders_df['total_price'] = user_orders_df['total_price'].astype(float)\n",
    "\n",
    "df = pandasql.sqldf(\"\"\"\n",
    "SELECT 是否自主注册, 是否优化后注册\n",
    "    ,COUNT(DISTINCT cust_id) AS 总人数\n",
    "    ,COUNT(DISTINCT CASE WHEN order_no IS NOT NULL AND order_time > register_time AND julianday(order_time) - julianday(register_time) <= 14 THEN cust_id END) AS 总下单人数\n",
    "    ,COUNT(DISTINCT CASE WHEN order_time > register_time AND julianday(order_time) - julianday(register_time) <= 14 THEN order_no END) AS 总下单笔数\n",
    "    ,SUM(CASE WHEN order_time > register_time AND julianday(order_time) - julianday(register_time) <= 14 THEN total_price ELSE 0 END) AS 总GMV\n",
    "    ,SUM(CASE WHEN order_time > register_time AND julianday(order_time) - julianday(register_time) <= 14 THEN total_price ELSE 0 END) / COUNT(DISTINCT cust_id) AS 人均GMV\n",
    "    ,SUM(CASE WHEN order_time > register_time AND julianday(order_time) - julianday(register_time) <= 14 THEN total_price ELSE 0 END) / \n",
    "     NULLIF(COUNT(DISTINCT CASE WHEN order_no IS NOT NULL AND order_time > register_time AND julianday(order_time) - julianday(register_time) <= 14 THEN cust_id END), 0) AS 下单人群人均GMV\n",
    "    ,SUM(CASE WHEN order_time > register_time AND julianday(order_time) - julianday(register_time) <= 14 THEN total_price ELSE 0 END) / \n",
    "     NULLIF(COUNT(DISTINCT CASE WHEN order_time > register_time AND julianday(order_time) - julianday(register_time) <= 14 THEN order_no END), 0) AS 订单均价\n",
    "    ,MIN(CASE WHEN order_time > register_time AND julianday(order_time) - julianday(register_time) <= 14 THEN order_time END) || '~' || \n",
    "     MAX(CASE WHEN order_time > register_time AND julianday(order_time) - julianday(register_time) <= 14 THEN order_time END) AS 下单日期范围\n",
    "    ,CAST(COUNT(DISTINCT CASE WHEN order_no IS NOT NULL AND order_time > register_time AND julianday(order_time) - julianday(register_time) <= 14 THEN cust_id END) AS FLOAT) / \n",
    "     COUNT(DISTINCT cust_id) AS 下单转化率\n",
    "FROM user_orders_df\n",
    "GROUP BY 是否自主注册, 是否优化后注册\n",
    "ORDER BY 是否自主注册, 是否优化后注册\n",
    "\"\"\")\n",
    "\n",
    "df"
   ]
  },
  {
   "cell_type": "code",
   "execution_count": null,
   "metadata": {},
   "outputs": [],
   "source": [
    "user_orders_df[user_orders_df['是否自主注册']=='自主注册'].describe()"
   ]
  },
  {
   "cell_type": "code",
   "execution_count": null,
   "metadata": {},
   "outputs": [],
   "source": [
    "user_orders_df[(user_orders_df['是否自主注册']=='自主注册') & (user_orders_df['是否优化后注册']=='优化前')].describe()"
   ]
  },
  {
   "cell_type": "code",
   "execution_count": null,
   "metadata": {},
   "outputs": [],
   "source": [
    "user_orders_df[(user_orders_df['是否自主注册']=='自主注册') & (user_orders_df['是否优化后注册']=='优化后注册')].describe()"
   ]
  },
  {
   "cell_type": "code",
   "execution_count": null,
   "metadata": {},
   "outputs": [],
   "source": []
  }
 ],
 "metadata": {
  "kernelspec": {
   "display_name": ".venv",
   "language": "python",
   "name": "python3"
  },
  "language_info": {
   "codemirror_mode": {
    "name": "ipython",
    "version": 3
   },
   "file_extension": ".py",
   "mimetype": "text/x-python",
   "name": "python",
   "nbconvert_exporter": "python",
   "pygments_lexer": "ipython3",
   "version": "3.11.6"
  }
 },
 "nbformat": 4,
 "nbformat_minor": 2
}
