{
 "cells": [
  {
   "cell_type": "code",
   "execution_count": null,
   "metadata": {},
   "outputs": [],
   "source": [
    "# 获取token\n",
    "import requests\n",
    "import os\n",
    "\n",
    "login_url = \"https://admin.summerfarm.net/authentication/auth/username/login\"\n",
    "login_data = {\n",
    "    \"username\": \"peng.tang@summerfarm.net\",\n",
    "    \"password\": os.getenv('XIANMU_ADMIN_PASSWORD'),\n",
    "}\n",
    "\n",
    "token = requests.post(login_url, data=login_data).json()\n",
    "\n",
    "print(token)\n",
    "\n",
    "\n",
    "headers = {\n",
    "    'token': token.get(\"data\").get(\"token\"),\n",
    "    'xm-rqid': 'create_fake_merchant_tp',\n",
    "    'xm-uid': '2047',\n",
    "    'Content-Type': 'application/json;charset=UTF-8',\n",
    "}\n",
    "\n",
    "print(headers)"
   ]
  },
  {
   "cell_type": "code",
   "execution_count": null,
   "metadata": {},
   "outputs": [],
   "source": [
    "import requests\n",
    "\n",
    "url = 'https://admin.summerfarm.net/cosfo-manage/product-agent-application/sku-agent-record/list'\n",
    "\n",
    "data = {\n",
    "    \"pageIndex\": 1,\n",
    "    \"pageSize\": 200,\n",
    "    \"queryTenantName\": \"库豆\",\n",
    "    \"status\": 1\n",
    "}\n",
    "\n",
    "response = requests.post(url, headers=headers, json=data).json()\n",
    "\n",
    "print(response)"
   ]
  },
  {
   "cell_type": "code",
   "execution_count": null,
   "metadata": {},
   "outputs": [],
   "source": [
    "import pandas as pd\n",
    "from datetime import datetime\n",
    "\n",
    "\n",
    "products_df=pd.DataFrame(response.get(\"data\").get(\"list\"))\n",
    "products_df.to_csv(f\"./库豆鲜沐代仓所有货品_{datetime.now().strftime('%Y-%m-%d')}.csv\", index=False)\n",
    "products_df.head(2)"
   ]
  },
  {
   "cell_type": "code",
   "execution_count": null,
   "metadata": {},
   "outputs": [],
   "source": []
  },
  {
   "cell_type": "code",
   "execution_count": null,
   "metadata": {},
   "outputs": [],
   "source": []
  }
 ],
 "metadata": {
  "kernelspec": {
   "display_name": ".venv",
   "language": "python",
   "name": "python3"
  },
  "language_info": {
   "codemirror_mode": {
    "name": "ipython",
    "version": 3
   },
   "file_extension": ".py",
   "mimetype": "text/x-python",
   "name": "python",
   "nbconvert_exporter": "python",
   "pygments_lexer": "ipython3",
   "version": "3.10.10"
  }
 },
 "nbformat": 4,
 "nbformat_minor": 2
}
