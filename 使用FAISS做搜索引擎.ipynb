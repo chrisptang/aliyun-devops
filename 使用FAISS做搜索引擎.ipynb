{
 "cells": [
  {
   "cell_type": "code",
   "execution_count": 1,
   "metadata": {},
   "outputs": [
    {
     "name": "stdout",
     "output_type": "stream",
     "text": [
      "{'code': 'SUCCESS', 'data': {'authId': 2082, 'bizUserId': 2047, 'phone': '18618107293', 'realname': '唐鹏', 'token': 'admin__7beae286-f9ba-46bb-9fb1-cccca45ab79d', 'userBaseId': 2080}, 'msg': '', 'success': True}\n",
      "{'token': 'admin__7beae286-f9ba-46bb-9fb1-cccca45ab79d', 'xm-rqid': 'create_fake_merchant_tp', 'xm-uid': '2047', 'Content-Type': 'application/json;charset=UTF-8'}\n"
     ]
    }
   ],
   "source": [
    "# 获取token\n",
    "import requests\n",
    "import os\n",
    "\n",
    "login_url = \"https://admin.summerfarm.net/authentication/auth/username/login\"\n",
    "login_data = {\n",
    "    \"username\": \"peng.tang@summerfarm.net\",\n",
    "    \"password\": os.getenv('XIANMU_ADMIN_PASSWORD'),\n",
    "}\n",
    "\n",
    "token = requests.post(login_url, data=login_data).json()\n",
    "\n",
    "print(token)\n",
    "\n",
    "\n",
    "headers = {\n",
    "    'token': token.get(\"data\").get(\"token\"),\n",
    "    'xm-rqid': 'create_fake_merchant_tp',\n",
    "    'xm-uid': '2047',\n",
    "    'Content-Type': 'application/json;charset=UTF-8',\n",
    "}\n",
    "\n",
    "print(headers)"
   ]
  },
  {
   "cell_type": "code",
   "execution_count": null,
   "metadata": {},
   "outputs": [],
   "source": []
  }
 ],
 "metadata": {
  "kernelspec": {
   "display_name": ".venv",
   "language": "python",
   "name": "python3"
  },
  "language_info": {
   "codemirror_mode": {
    "name": "ipython",
    "version": 3
   },
   "file_extension": ".py",
   "mimetype": "text/x-python",
   "name": "python",
   "nbconvert_exporter": "python",
   "pygments_lexer": "ipython3",
   "version": "3.10.14"
  }
 },
 "nbformat": 4,
 "nbformat_minor": 2
}
