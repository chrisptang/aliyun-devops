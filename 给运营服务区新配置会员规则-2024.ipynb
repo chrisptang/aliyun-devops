{
 "cells": [
  {
   "cell_type": "code",
   "execution_count": null,
   "metadata": {},
   "outputs": [],
   "source": [
    "# 获取token\n",
    "import requests\n",
    "import os\n",
    "\n",
    "login_url = \"https://admin.summerfarm.net/authentication/auth/username/login\"\n",
    "login_data = {\n",
    "    \"username\": \"peng.tang@summerfarm.net\",\n",
    "    \"password\": os.getenv('XIANMU_ADMIN_PASSWORD'),\n",
    "}\n",
    "\n",
    "token = requests.post(login_url, data=login_data).json()\n",
    "\n",
    "print(token)\n",
    "\n",
    "\n",
    "headers = {\n",
    "    'token': token.get(\"data\").get(\"token\"),\n",
    "    'xm-rqid': 'create_fake_merchant_tp',\n",
    "    'xm-uid': '2047',\n",
    "    'Content-Type': 'application/json;charset=UTF-8',\n",
    "}\n",
    "\n",
    "print(headers)"
   ]
  },
  {
   "cell_type": "code",
   "execution_count": null,
   "metadata": {},
   "outputs": [],
   "source": [
    "import requests\n",
    "\n",
    "url = 'https://admin.summerfarm.net/large-area/larges'\n",
    "large_area = requests.get(url, headers=headers).json()\n",
    "large_area"
   ]
  },
  {
   "cell_type": "code",
   "execution_count": null,
   "metadata": {},
   "outputs": [],
   "source": [
    "update_member_grade_json = {\n",
    "    \"areaName\": \"测试大区域\",\n",
    "    \"storeNo\": 1,\n",
    "    \"companyAccountId\": 1,\n",
    "    \"companyName\": \"海南水木铭农业科技有限公司\",\n",
    "    \"mapSection\": [],\n",
    "    \"areaNo\": 29316,\n",
    "    \"status\": 1,\n",
    "    \"deliveryFee\": 10,\n",
    "    \"expressFee\": 11,\n",
    "    \"deliveryRule\": '{\"categoryList\":[]}',\n",
    "    \"memberRule\": '[{\"grade\":0,\"threshold\":0,\"refundAmount\":0,\"outTimes\":0},{\"grade\":1,\"threshold\":1000,\"refundAmount\":10,\"outTimes\":100},{\"grade\":2,\"threshold\":2000,\"refundAmount\":300,\"outTimes\":200},{\"grade\":3,\"threshold\":4000,\"refundAmount\":500,\"outTimes\":500}]',\n",
    "    \"freeDay\": \"\",\n",
    "    \"notifyTitle\": \"\",\n",
    "    \"notifyContent\": \"\",\n",
    "    \"notifyRemarks\": \"\",\n",
    "    \"changeFlag\": False,\n",
    "    \"changeStatus\": 0,\n",
    "    \"changeStoreNo\": \"\",\n",
    "    \"changStartTime\": \"\",\n",
    "    \"administrativeArea\": \"河南/洛阳市\",\n",
    "    \"adminId\": 12,\n",
    "    \"supportAddOrder\": 1,\n",
    "    \"largeAreaNo\": 1,\n",
    "    \"largeAreaName\": \"测试大区域\",\n",
    "    \"largeName\": \"杭州大区\",\n",
    "    \"payChannel\": 0,\n",
    "    \"nextDeliveryDate\": \"\",\n",
    "    \"parentNo\": 1,\n",
    "}"
   ]
  },
  {
   "cell_type": "code",
   "execution_count": null,
   "metadata": {},
   "outputs": [],
   "source": [
    "import pandas as pd\n",
    "new_grade_df=pd.read_csv(\"./新会员等级-分省份2024.csv\")\n",
    "new_grade_df.head(2)"
   ]
  },
  {
   "cell_type": "code",
   "execution_count": null,
   "metadata": {},
   "outputs": [],
   "source": [
    "print(new_grade_df['省份'].unique())"
   ]
  },
  {
   "cell_type": "code",
   "execution_count": null,
   "metadata": {},
   "outputs": [],
   "source": [
    "all_sub_area=[]\n",
    "\n",
    "for large_area_obj in large_area.get('data'):\n",
    "    print(large_area_obj)\n",
    "    if int(large_area_obj.get('status'))==0:\n",
    "        print(f\"服务区关闭的:{large_area_obj}\")\n",
    "        continue\n",
    "    if '测试' in large_area_obj.get('largeAreaName'):\n",
    "        print(f\"服务大区是测试区域:{large_area_obj}\")\n",
    "    for area in large_area_obj.get(\"areaList\"):\n",
    "        if int(area.get('status'))==0:\n",
    "            print(f\"服务小区是关闭的:{area}\")\n",
    "            continue\n",
    "        if '测试' in area.get('areaName',''):\n",
    "            print(f\"服务小区是测试区域:{area}\")\n",
    "            continue\n",
    "        area['largeName']=large_area_obj['largeAreaName']\n",
    "        all_sub_area.append(area)\n",
    "    print(all_sub_area[len(all_sub_area)-1])"
   ]
  },
  {
   "cell_type": "code",
   "execution_count": null,
   "metadata": {},
   "outputs": [],
   "source": [
    "all_sub_area_df=pd.DataFrame(all_sub_area)"
   ]
  },
  {
   "cell_type": "code",
   "execution_count": null,
   "metadata": {},
   "outputs": [],
   "source": [
    "import json\n",
    "new_grade_df.head(2)\n",
    "\n",
    "new_grade_map={}\n",
    "\n",
    "def create_member_rule(row):\n",
    "    grade_json= [\n",
    "        {\"grade\": 0, \"threshold\": row['交易门槛V0'], \"refundAmount\": row['极速售后额度V0'], \"outTimes\": row['超时加单次数']},\n",
    "        {\"grade\": 1, \"threshold\": row['交易门槛V1'], \"refundAmount\": row['极速售后额度V1'], \"outTimes\": row['超时加单次数']},\n",
    "        {\"grade\": 2, \"threshold\": row['交易门槛V2'], \"refundAmount\": row['极速售后额度V2'], \"outTimes\": row['超时加单次数']},\n",
    "        {\"grade\": 3, \"threshold\": row['交易门槛V3'], \"refundAmount\": row['极速售后额度V3'], \"outTimes\": row['超时加单次数']}\n",
    "    ]\n",
    "\n",
    "    new_grade_map[f\"{row['省份']}_{row['对应运营大区']}\"]=json.dumps(grade_json)\n",
    "\n",
    "    return grade_json\n",
    "\n",
    "new_grade_df['memberRule'] = new_grade_df.apply(create_member_rule, axis=1)\n",
    "\n",
    "pd.set_option('display.max_columns', None)\n",
    "pd.set_option('display.width', None)\n",
    "pd.set_option('display.max_colwidth', None)\n",
    "new_grade_df[['省份','对应运营大区','memberRule']]"
   ]
  },
  {
   "cell_type": "code",
   "execution_count": null,
   "metadata": {},
   "outputs": [],
   "source": [
    "new_grade_map"
   ]
  },
  {
   "cell_type": "code",
   "execution_count": null,
   "metadata": {},
   "outputs": [],
   "source": [
    "all_sub_area[0]\n",
    "not_found_areas = []\n",
    "all_sql=\"\"\n",
    "for area in all_sub_area:\n",
    "\n",
    "    area_of_this = f\"{area['areaName']}:{area['areaNo']}\"\n",
    "    province = area[\"administrativeArea\"].split(\"/\")[0]\n",
    "    if len(province) > 3:\n",
    "        province = province[:2]\n",
    "    large_name = area[\"largeName\"]\n",
    "    # print(province, large_name)\n",
    "    new_grade_json = new_grade_map.get(f\"{province}_{large_name}\", \"呵呵获取不到新规则\")\n",
    "    if \"呵呵\" in new_grade_json:\n",
    "        # print(f\"本运营服务区找不到新会员规则: {area}\")\n",
    "        not_found_areas.append(area)\n",
    "        continue\n",
    "\n",
    "    new_grade_json = json.loads(new_grade_json)\n",
    "    old_rule = area[\"memberRule\"]\n",
    "    old_rule_json = None\n",
    "    if old_rule is not None and len(old_rule) > 10:\n",
    "        old_rule_json = json.loads(old_rule)\n",
    "        # print(old_rule_json)\n",
    "        for rule in new_grade_json:\n",
    "            # print(f\"rule:{rule}\")\n",
    "            for old in old_rule_json:\n",
    "                # print(f\"old:{old}\")\n",
    "                if rule[\"grade\"] == old[\"grade\"]:\n",
    "                    rule[\"outTimes\"] = old[\"outTimes\"]\n",
    "                    break\n",
    "    print(\n",
    "        f\"======>\\n运营服务区：{area_of_this},{province},{large_name}, \\n旧规则：{old_rule_json}, \\n新规则：{new_grade_json}\\n\\n\"\n",
    "    )\n",
    "    all_sql=f\"\"\"{all_sql}update `area` set `member_rule`='{json.dumps(new_grade_json)}',update_time=now() \n",
    "where area_no = {area['areaNo']} and area_name='{area['areaName']}' and large_area_no={area['largeAreaNo']};\\n\\n\"\"\"\n",
    "\n",
    "not_found_areas_df = pd.DataFrame(not_found_areas)\n",
    "not_found_areas_df[[\"administrativeArea\", \"areaName\", \"areaNo\", \"largeName\"]]\n",
    "\n",
    "print(\"以下是找不到新规则的运营服务区！\")\n",
    "for index, row in not_found_areas_df[[\"administrativeArea\", \"areaName\", \"areaNo\", \"largeName\"]].iterrows():\n",
    "    print(f\"找不到新规则:{row.to_dict()}\")"
   ]
  },
  {
   "cell_type": "code",
   "execution_count": null,
   "metadata": {},
   "outputs": [],
   "source": [
    "print(\"SQL：{}\")\n",
    "print(all_sql)"
   ]
  },
  {
   "cell_type": "code",
   "execution_count": null,
   "metadata": {},
   "outputs": [],
   "source": []
  }
 ],
 "metadata": {
  "kernelspec": {
   "display_name": ".venv",
   "language": "python",
   "name": "python3"
  },
  "language_info": {
   "codemirror_mode": {
    "name": "ipython",
    "version": 3
   },
   "file_extension": ".py",
   "mimetype": "text/x-python",
   "name": "python",
   "nbconvert_exporter": "python",
   "pygments_lexer": "ipython3",
   "version": "3.12.6"
  }
 },
 "nbformat": 4,
 "nbformat_minor": 2
}
