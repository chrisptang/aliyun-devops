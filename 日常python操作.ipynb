{
 "cells": [
  {
   "cell_type": "code",
   "execution_count": 2,
   "metadata": {},
   "outputs": [
    {
     "name": "stdout",
     "output_type": "stream",
     "text": [
      "{'parent': '', 'address': '银湖街道中铁溪畔云景府北门20-12号商铺', 'distance': '', 'pcode': '330000', 'adcode': '330111', 'pname': '浙江省', 'cityname': '杭州市', 'type': '购物服务;综合市场;果品市场', 'typecode': '060704', 'adname': '富阳区', 'citycode': '0571', 'name': '心随果动水果商行', 'location': '119.936890,30.091010', 'id': 'B0JDYZ0ISB'}\n"
     ]
    }
   ],
   "source": [
    "import json\n",
    "\n",
    "with open('hangzhou.json', 'r') as file:\n",
    "    hangzhou = json.load(file)\n",
    "\n",
    "print(hangzhou[0])"
   ]
  },
  {
   "cell_type": "code",
   "execution_count": 3,
   "metadata": {},
   "outputs": [
    {
     "data": {
      "text/html": [
       "<div>\n",
       "<style scoped>\n",
       "    .dataframe tbody tr th:only-of-type {\n",
       "        vertical-align: middle;\n",
       "    }\n",
       "\n",
       "    .dataframe tbody tr th {\n",
       "        vertical-align: top;\n",
       "    }\n",
       "\n",
       "    .dataframe thead th {\n",
       "        text-align: right;\n",
       "    }\n",
       "</style>\n",
       "<table border=\"1\" class=\"dataframe\">\n",
       "  <thead>\n",
       "    <tr style=\"text-align: right;\">\n",
       "      <th></th>\n",
       "      <th>parent</th>\n",
       "      <th>address</th>\n",
       "      <th>distance</th>\n",
       "      <th>pcode</th>\n",
       "      <th>adcode</th>\n",
       "      <th>pname</th>\n",
       "      <th>cityname</th>\n",
       "      <th>type</th>\n",
       "      <th>typecode</th>\n",
       "      <th>adname</th>\n",
       "      <th>citycode</th>\n",
       "      <th>name</th>\n",
       "      <th>location</th>\n",
       "      <th>id</th>\n",
       "    </tr>\n",
       "  </thead>\n",
       "  <tbody>\n",
       "    <tr>\n",
       "      <th>0</th>\n",
       "      <td></td>\n",
       "      <td>银湖街道中铁溪畔云景府北门20-12号商铺</td>\n",
       "      <td></td>\n",
       "      <td>330000</td>\n",
       "      <td>330111</td>\n",
       "      <td>浙江省</td>\n",
       "      <td>杭州市</td>\n",
       "      <td>购物服务;综合市场;果品市场</td>\n",
       "      <td>060704</td>\n",
       "      <td>富阳区</td>\n",
       "      <td>0571</td>\n",
       "      <td>心随果动水果商行</td>\n",
       "      <td>119.936890,30.091010</td>\n",
       "      <td>B0JDYZ0ISB</td>\n",
       "    </tr>\n",
       "    <tr>\n",
       "      <th>1</th>\n",
       "      <td>B0IKOH0Z53</td>\n",
       "      <td>万达同心湾北区北1门旁(高桥地铁站D口步行390米)</td>\n",
       "      <td></td>\n",
       "      <td>330000</td>\n",
       "      <td>330111</td>\n",
       "      <td>浙江省</td>\n",
       "      <td>杭州市</td>\n",
       "      <td>购物服务;综合市场;果品市场</td>\n",
       "      <td>060704</td>\n",
       "      <td>富阳区</td>\n",
       "      <td>0571</td>\n",
       "      <td>诚亦果品(万达同心湾北区店)</td>\n",
       "      <td>119.935081,30.093383</td>\n",
       "      <td>B0JU3GX57L</td>\n",
       "    </tr>\n",
       "  </tbody>\n",
       "</table>\n",
       "</div>"
      ],
      "text/plain": [
       "       parent                     address distance   pcode  adcode pname  \\\n",
       "0                   银湖街道中铁溪畔云景府北门20-12号商铺           330000  330111   浙江省   \n",
       "1  B0IKOH0Z53  万达同心湾北区北1门旁(高桥地铁站D口步行390米)           330000  330111   浙江省   \n",
       "\n",
       "  cityname            type typecode adname citycode            name  \\\n",
       "0      杭州市  购物服务;综合市场;果品市场   060704    富阳区     0571        心随果动水果商行   \n",
       "1      杭州市  购物服务;综合市场;果品市场   060704    富阳区     0571  诚亦果品(万达同心湾北区店)   \n",
       "\n",
       "               location          id  \n",
       "0  119.936890,30.091010  B0JDYZ0ISB  \n",
       "1  119.935081,30.093383  B0JU3GX57L  "
      ]
     },
     "execution_count": 3,
     "metadata": {},
     "output_type": "execute_result"
    }
   ],
   "source": [
    "import pandas as pd\n",
    "hangzhou_df=pd.DataFrame(hangzhou)\n",
    "hangzhou_df.head(2)"
   ]
  },
  {
   "cell_type": "code",
   "execution_count": 5,
   "metadata": {},
   "outputs": [
    {
     "data": {
      "text/html": [
       "<div>\n",
       "<style scoped>\n",
       "    .dataframe tbody tr th:only-of-type {\n",
       "        vertical-align: middle;\n",
       "    }\n",
       "\n",
       "    .dataframe tbody tr th {\n",
       "        vertical-align: top;\n",
       "    }\n",
       "\n",
       "    .dataframe thead th {\n",
       "        text-align: right;\n",
       "    }\n",
       "</style>\n",
       "<table border=\"1\" class=\"dataframe\">\n",
       "  <thead>\n",
       "    <tr style=\"text-align: right;\">\n",
       "      <th></th>\n",
       "      <th>adname</th>\n",
       "      <th>cityname</th>\n",
       "      <th>cnt</th>\n",
       "    </tr>\n",
       "  </thead>\n",
       "  <tbody>\n",
       "    <tr>\n",
       "      <th>0</th>\n",
       "      <td>萧山区</td>\n",
       "      <td>杭州市</td>\n",
       "      <td>1388</td>\n",
       "    </tr>\n",
       "    <tr>\n",
       "      <th>1</th>\n",
       "      <td>上城区</td>\n",
       "      <td>杭州市</td>\n",
       "      <td>1011</td>\n",
       "    </tr>\n",
       "    <tr>\n",
       "      <th>2</th>\n",
       "      <td>余杭区</td>\n",
       "      <td>杭州市</td>\n",
       "      <td>915</td>\n",
       "    </tr>\n",
       "    <tr>\n",
       "      <th>3</th>\n",
       "      <td>拱墅区</td>\n",
       "      <td>杭州市</td>\n",
       "      <td>858</td>\n",
       "    </tr>\n",
       "    <tr>\n",
       "      <th>4</th>\n",
       "      <td>临平区</td>\n",
       "      <td>杭州市</td>\n",
       "      <td>752</td>\n",
       "    </tr>\n",
       "    <tr>\n",
       "      <th>5</th>\n",
       "      <td>西湖区</td>\n",
       "      <td>杭州市</td>\n",
       "      <td>710</td>\n",
       "    </tr>\n",
       "    <tr>\n",
       "      <th>6</th>\n",
       "      <td>富阳区</td>\n",
       "      <td>杭州市</td>\n",
       "      <td>651</td>\n",
       "    </tr>\n",
       "    <tr>\n",
       "      <th>7</th>\n",
       "      <td>临安区</td>\n",
       "      <td>杭州市</td>\n",
       "      <td>493</td>\n",
       "    </tr>\n",
       "    <tr>\n",
       "      <th>8</th>\n",
       "      <td>钱塘区</td>\n",
       "      <td>杭州市</td>\n",
       "      <td>488</td>\n",
       "    </tr>\n",
       "    <tr>\n",
       "      <th>9</th>\n",
       "      <td>桐庐县</td>\n",
       "      <td>杭州市</td>\n",
       "      <td>360</td>\n",
       "    </tr>\n",
       "    <tr>\n",
       "      <th>10</th>\n",
       "      <td>滨江区</td>\n",
       "      <td>杭州市</td>\n",
       "      <td>352</td>\n",
       "    </tr>\n",
       "    <tr>\n",
       "      <th>11</th>\n",
       "      <td>建德市</td>\n",
       "      <td>杭州市</td>\n",
       "      <td>328</td>\n",
       "    </tr>\n",
       "    <tr>\n",
       "      <th>12</th>\n",
       "      <td>淳安县</td>\n",
       "      <td>杭州市</td>\n",
       "      <td>194</td>\n",
       "    </tr>\n",
       "    <tr>\n",
       "      <th>13</th>\n",
       "      <td>番禺区</td>\n",
       "      <td>广州市</td>\n",
       "      <td>192</td>\n",
       "    </tr>\n",
       "  </tbody>\n",
       "</table>\n",
       "</div>"
      ],
      "text/plain": [
       "   adname cityname   cnt\n",
       "0     萧山区      杭州市  1388\n",
       "1     上城区      杭州市  1011\n",
       "2     余杭区      杭州市   915\n",
       "3     拱墅区      杭州市   858\n",
       "4     临平区      杭州市   752\n",
       "5     西湖区      杭州市   710\n",
       "6     富阳区      杭州市   651\n",
       "7     临安区      杭州市   493\n",
       "8     钱塘区      杭州市   488\n",
       "9     桐庐县      杭州市   360\n",
       "10    滨江区      杭州市   352\n",
       "11    建德市      杭州市   328\n",
       "12    淳安县      杭州市   194\n",
       "13    番禺区      广州市   192"
      ]
     },
     "execution_count": 5,
     "metadata": {},
     "output_type": "execute_result"
    }
   ],
   "source": [
    "import pandasql\n",
    "\n",
    "df=pandasql.sqldf(\"select adname,cityname,count(0) cnt from hangzhou_df group by adname,cityname order by cnt desc\")\n",
    "df"
   ]
  },
  {
   "cell_type": "code",
   "execution_count": 1,
   "metadata": {},
   "outputs": [
    {
     "name": "stdout",
     "output_type": "stream",
     "text": [
      "{'code': 'SUCCESS', 'data': {'authId': 2082, 'bizUserId': 2047, 'phone': '18618107293', 'realname': '唐鹏', 'token': 'admin__22793d00-0628-4843-b5a5-ccc6460e63a8', 'userBaseId': 2080}, 'msg': '', 'success': True}\n",
      "{'token': 'admin__22793d00-0628-4843-b5a5-ccc6460e63a8', 'xm-rqid': 'create_fake_merchant_tp', 'xm-uid': '2047', 'Content-Type': 'application/json;charset=UTF-8'}\n"
     ]
    }
   ],
   "source": [
    "# 获取token\n",
    "import requests\n",
    "\n",
    "login_url = \"https://admin.summerfarm.net/authentication/auth/username/login\"\n",
    "login_data = {\n",
    "    \"username\": \"peng.tang@summerfarm.net\",\n",
    "    \"password\": \"summer@202302\",\n",
    "}\n",
    "\n",
    "token = requests.post(login_url, data=login_data).json()\n",
    "\n",
    "print(token)\n",
    "\n",
    "\n",
    "headers = {\n",
    "    'token': token.get(\"data\").get(\"token\"),\n",
    "    'xm-rqid': 'create_fake_merchant_tp',\n",
    "    'xm-uid': '2047',\n",
    "    'Content-Type': 'application/json;charset=UTF-8',\n",
    "}\n",
    "\n",
    "print(headers)"
   ]
  },
  {
   "cell_type": "code",
   "execution_count": 2,
   "metadata": {},
   "outputs": [
    {
     "name": "stdout",
     "output_type": "stream",
     "text": [
      "{'areaList': [], 'largeAreaName': '爷爷不泡茶快递服务区', 'largeAreaNo': 90, 'manageAdminId': 1685, 'status': 1}\n"
     ]
    }
   ],
   "source": [
    "large_area_name_to_create_sub_area='爷爷不泡茶快递服务区'\n",
    "def get_large_area_by_name(name=large_area_name_to_create_sub_area):\n",
    "    url='https://admin.summerfarm.net/large-area/1/200'\n",
    "    response = requests.get(url, headers=headers).json()\n",
    "    for area in response.get('data').get('list'):\n",
    "        if name in area.get('largeAreaName'):\n",
    "            return area\n",
    "    return None;\n",
    "\n",
    "\n",
    "area=get_large_area_by_name()\n",
    "print(area)"
   ]
  },
  {
   "cell_type": "code",
   "execution_count": 8,
   "metadata": {},
   "outputs": [
    {
     "name": "stdout",
     "output_type": "stream",
     "text": [
      "测试AQRO\n",
      "测试AMSHXVU\n"
     ]
    }
   ],
   "source": [
    "import random\n",
    "\n",
    "charactors_to_use = \"QAZWSXEDCRFVTGBYHNUJMIKOPL\"\n",
    "\n",
    "def generate_random_area_name(length=3):\n",
    "    random_chars = ''.join(random.choice(charactors_to_use) for _ in range(length))\n",
    "    return \"测试A\" + random_chars\n",
    "\n",
    "# Example usage:\n",
    "print(generate_random_area_name())\n",
    "print(generate_random_area_name(6))"
   ]
  },
  {
   "cell_type": "code",
   "execution_count": 6,
   "metadata": {},
   "outputs": [
    {
     "name": "stdout",
     "output_type": "stream",
     "text": [
      "data: {'adminId': 2047, 'freeDay': '', 'level': 2, 'areaName': '测试AAA', 'companyAccountId': 5, 'companyName': '杭州鲜沐科技有限公司', 'administrativeArea': '新疆维吾尔自治区/爷爷不泡茶快递服务区测试', 'status': 0, 'deliveryFee': 0, 'expressFee': 0, 'mapSection': [], 'deliveryRule': '{\"categoryList\":[]}', 'memberRule': '[]', 'weChatNotify': 0, 'notifyTitle': '', 'notifyContent': '', 'notifyRemarks': '', 'nextDeliveryDate': '', 'originAreaNo': '', 'closeOrderType': '', 'allocationNextTimeType': '', 'nextDayReach': '', 'payChannel': '', 'largeAreaName': '爷爷不泡茶快递服务区测试小区', 'largeAreaNo': 90, 'supportAddOrder': 1, 'warehouseList': []}\n",
      "200\n",
      "{\"code\":\"SUCCESS\",\"data\":44249,\"msg\":\"\",\"success\":true}\n"
     ]
    }
   ],
   "source": [
    "## 创建虚拟的运营区域（用来给新建的大区添加空的小区）\n",
    "\n",
    "import requests\n",
    "\n",
    "url = 'https://admin.summerfarm.net/area/add'\n",
    "data = {\n",
    "    \"adminId\": 2047,\n",
    "    \"freeDay\": \"\",\n",
    "    \"level\": 2,\n",
    "    \"areaName\": f\"{generate_random_area_name()}\",\n",
    "    \"companyAccountId\": 5,\n",
    "    \"companyName\": \"杭州鲜沐科技有限公司\",\n",
    "    \"administrativeArea\": f\"新疆维吾尔自治区/{large_area_name_to_create_sub_area}测试\",\n",
    "    \"status\": 0,\n",
    "    \"deliveryFee\": 0,\n",
    "    \"expressFee\": 0,\n",
    "    \"mapSection\": [],\n",
    "    \"deliveryRule\": \"{\\\"categoryList\\\":[]}\",\n",
    "    \"memberRule\": \"[]\",\n",
    "    \"weChatNotify\": 0,\n",
    "    \"notifyTitle\": \"\",\n",
    "    \"notifyContent\": \"\",\n",
    "    \"notifyRemarks\": \"\",\n",
    "    \"nextDeliveryDate\": \"\",\n",
    "    \"originAreaNo\": \"\",\n",
    "    \"closeOrderType\": \"\",\n",
    "    \"allocationNextTimeType\": \"\",\n",
    "    \"nextDayReach\": \"\",\n",
    "    \"payChannel\": \"\",\n",
    "    \"largeAreaName\": f\"{large_area_name_to_create_sub_area}测试小区\",\n",
    "    \"largeAreaNo\": area.get('largeAreaNo'),\n",
    "    \"supportAddOrder\": 1,\n",
    "    \"warehouseList\": []\n",
    "}\n",
    "print('data:', data)\n",
    "response = requests.put(url, headers=headers, json=data)\n",
    "\n",
    "print(response.status_code)\n",
    "print(response.text)"
   ]
  },
  {
   "cell_type": "code",
   "execution_count": null,
   "metadata": {},
   "outputs": [],
   "source": []
  }
 ],
 "metadata": {
  "kernelspec": {
   "display_name": ".venv",
   "language": "python",
   "name": "python3"
  },
  "language_info": {
   "codemirror_mode": {
    "name": "ipython",
    "version": 3
   },
   "file_extension": ".py",
   "mimetype": "text/x-python",
   "name": "python",
   "nbconvert_exporter": "python",
   "pygments_lexer": "ipython3",
   "version": "3.10.10"
  }
 },
 "nbformat": 4,
 "nbformat_minor": 2
}
