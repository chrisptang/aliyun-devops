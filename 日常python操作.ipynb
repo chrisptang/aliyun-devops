{
 "cells": [
  {
   "cell_type": "code",
   "execution_count": null,
   "metadata": {},
   "outputs": [],
   "source": [
    "import json\n",
    "\n",
    "with open('hangzhou.json', 'r') as file:\n",
    "    hangzhou = json.load(file)\n",
    "\n",
    "print(hangzhou[0])"
   ]
  },
  {
   "cell_type": "code",
   "execution_count": null,
   "metadata": {},
   "outputs": [],
   "source": [
    "import pandas as pd\n",
    "hangzhou_df=pd.DataFrame(hangzhou)\n",
    "hangzhou_df.head(2)"
   ]
  },
  {
   "cell_type": "code",
   "execution_count": null,
   "metadata": {},
   "outputs": [],
   "source": [
    "import pandasql\n",
    "\n",
    "df=pandasql.sqldf(\"select adname,cityname,count(0) cnt from hangzhou_df group by adname,cityname order by cnt desc\")\n",
    "df"
   ]
  },
  {
   "cell_type": "code",
   "execution_count": null,
   "metadata": {},
   "outputs": [],
   "source": [
    "# 获取token\n",
    "import requests\n",
    "import os\n",
    "\n",
    "login_url = \"https://admin.summerfarm.net/authentication/auth/username/login\"\n",
    "login_data = {\n",
    "    \"username\": \"peng.tang@summerfarm.net\",\n",
    "    \"password\": os.getenv('XIANMU_ADMIN_PASSWORD'),\n",
    "}\n",
    "\n",
    "token = requests.post(login_url, data=login_data).json()\n",
    "\n",
    "print(token)\n",
    "\n",
    "\n",
    "headers = {\n",
    "    'token': token.get(\"data\").get(\"token\"),\n",
    "    'xm-rqid': 'create_fake_merchant_tp',\n",
    "    'xm-uid': '2047',\n",
    "    'Content-Type': 'application/json;charset=UTF-8',\n",
    "}\n",
    "\n",
    "print(headers)"
   ]
  },
  {
   "cell_type": "code",
   "execution_count": null,
   "metadata": {},
   "outputs": [],
   "source": [
    "large_area_name_to_create_sub_area='武汉大区'\n",
    "def get_large_area_by_name(name=large_area_name_to_create_sub_area):\n",
    "    url='https://admin.summerfarm.net/large-area/1/200'\n",
    "    response = requests.get(url, headers=headers).json()\n",
    "    for area in response.get('data').get('list'):\n",
    "        if name in area.get('largeAreaName'):\n",
    "            return area\n",
    "    return None;\n",
    "\n",
    "\n",
    "area=get_large_area_by_name()\n",
    "print(area)"
   ]
  },
  {
   "cell_type": "code",
   "execution_count": null,
   "metadata": {},
   "outputs": [],
   "source": [
    "import random\n",
    "\n",
    "charactors_to_use = \"QAZWSXEDCRFVTGBYHNUJMIKOPL\"\n",
    "\n",
    "def generate_random_area_name(length=3):\n",
    "    random_chars = ''.join(random.choice(charactors_to_use) for _ in range(length))\n",
    "    return \"测试A\" + random_chars\n",
    "\n",
    "# Example usage:\n",
    "print(generate_random_area_name())\n",
    "print(generate_random_area_name(6))"
   ]
  },
  {
   "cell_type": "code",
   "execution_count": null,
   "metadata": {},
   "outputs": [],
   "source": [
    "## 创建虚拟的运营区域（用来给新建的大区添加空的小区）\n",
    "\n",
    "import requests\n",
    "\n",
    "url = 'https://admin.summerfarm.net/area/add'\n",
    "data = {\n",
    "    \"adminId\": 2047,\n",
    "    \"freeDay\": \"\",\n",
    "    \"level\": 2,\n",
    "    \"areaName\": f\"{generate_random_area_name()}\",\n",
    "    \"companyAccountId\": 5,\n",
    "    \"companyName\": \"杭州鲜沐科技有限公司\",\n",
    "    \"administrativeArea\": f\"新疆维吾尔自治区/{large_area_name_to_create_sub_area}测试\",\n",
    "    \"status\": 0,\n",
    "    \"deliveryFee\": 0,\n",
    "    \"expressFee\": 0,\n",
    "    \"mapSection\": [],\n",
    "    \"deliveryRule\": \"{\\\"categoryList\\\":[]}\",\n",
    "    \"memberRule\": \"[]\",\n",
    "    \"weChatNotify\": 0,\n",
    "    \"notifyTitle\": \"\",\n",
    "    \"notifyContent\": \"\",\n",
    "    \"notifyRemarks\": \"\",\n",
    "    \"nextDeliveryDate\": \"\",\n",
    "    \"originAreaNo\": \"\",\n",
    "    \"closeOrderType\": \"\",\n",
    "    \"allocationNextTimeType\": \"\",\n",
    "    \"nextDayReach\": \"\",\n",
    "    \"payChannel\": \"\",\n",
    "    \"largeAreaName\": f\"{large_area_name_to_create_sub_area}测试小区\",\n",
    "    \"largeAreaNo\": area.get('largeAreaNo'),\n",
    "    \"supportAddOrder\": 1,\n",
    "    \"warehouseList\": []\n",
    "}\n",
    "print('data:', data)\n",
    "response = requests.put(url, headers=headers, json=data)\n",
    "\n",
    "print(response.status_code)\n",
    "print(response.text)"
   ]
  },
  {
   "cell_type": "code",
   "execution_count": null,
   "metadata": {},
   "outputs": [],
   "source": []
  }
 ],
 "metadata": {
  "kernelspec": {
   "display_name": ".venv",
   "language": "python",
   "name": "python3"
  },
  "language_info": {
   "codemirror_mode": {
    "name": "ipython",
    "version": 3
   },
   "file_extension": ".py",
   "mimetype": "text/x-python",
   "name": "python",
   "nbconvert_exporter": "python",
   "pygments_lexer": "ipython3",
   "version": "3.10.12"
  }
 },
 "nbformat": 4,
 "nbformat_minor": 2
}
