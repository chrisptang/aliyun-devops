{
 "cells": [
  {
   "cell_type": "code",
   "execution_count": null,
   "metadata": {},
   "outputs": [],
   "source": [
    "from odps_client import get_odps_sql_result_as_df\n",
    "\n",
    "sql=\"\"\"\n",
    "SELECT  a.m_id\n",
    "        ,c.mname AS 商户名称\n",
    "        ,a.admin_name AS 拜访BD\n",
    "        ,b.updater AS 陪访人M1\n",
    "        ,a.add_time AS BD拜访完成时间\n",
    "        ,b.update_time AS 陪访完成时间\n",
    "        ,a.follow_up_way AS 拜访方式\n",
    "        ,a.condition AS 拜访记录内容\n",
    "        ,a.poi_note AS BD打卡的POI\n",
    "        ,a.follow_up_pic\n",
    "        ,a.location AS 拜访地点\n",
    "FROM    summerfarm_tech.ods_follow_up_record_df a\n",
    "JOIN    summerfarm_tech.ods_crm_escort_visit_plan_df b\n",
    "ON      b.ds = MAX_PT(\"summerfarm_tech.ods_crm_escort_visit_plan_df\")\n",
    "AND     a.visit_plan_id = b.visit_plan_id\n",
    "JOIN    summerfarm_tech.ods_merchant_df c\n",
    "ON      c.ds = MAX_PT(\"summerfarm_tech.ods_merchant_df\")\n",
    "AND     c.m_id = a.m_id\n",
    "WHERE   b.admin_id = 560\n",
    "AND     a.ds = MAX_PT(\"summerfarm_tech.ods_follow_up_record_df\")\n",
    "AND     b.create_time >= '2024-01-01 00:00:00'\n",
    ";\n",
    "\"\"\"\n",
    "\n",
    "chenhuijin_df=get_odps_sql_result_as_df(sql=sql)"
   ]
  },
  {
   "cell_type": "code",
   "execution_count": null,
   "metadata": {},
   "outputs": [],
   "source": [
    "chenhuijin_df[\"打卡图片\"] = chenhuijin_df[\"follow_up_pic\"].apply(\n",
    "    lambda urls: \",\\t\".join(\n",
    "        [f\"https://azure.summerfarm.net/{path}\" for path in urls.split(\";\")]\n",
    "    )\n",
    ")\n",
    "chenhuijin_df.drop(columns=[\"follow_up_pic\"], inplace=True)\n",
    "chenhuijin_df"
   ]
  },
  {
   "cell_type": "code",
   "execution_count": null,
   "metadata": {},
   "outputs": [],
   "source": [
    "chenhuijin_df.to_csv(\"./陈华进_2024年全部陪访记录.csv\", index=False)"
   ]
  },
  {
   "cell_type": "code",
   "execution_count": null,
   "metadata": {},
   "outputs": [],
   "source": [
    "from odps_client import get_odps_sql_result_as_df\n",
    "\n",
    "sql = \"\"\"\n",
    "SELECT  sku_id, warehouse_no, date, quantity\n",
    "    FROM    summerfarm_tech.app_estimated_sku_warehouse_record_df\n",
    "    WHERE   ds = MAX_PT('summerfarm_tech.app_estimated_sku_warehouse_record_df')\n",
    "    AND     date >= '20230101'\n",
    "\"\"\"\n",
    "\n",
    "warehouse_df = get_odps_sql_result_as_df(sql)\n",
    "warehouse_df.to_csv(\"./data/销量预测全部数据集合.csv\", index=False)\n",
    "warehouse_df.head(10)"
   ]
  },
  {
   "cell_type": "code",
   "execution_count": null,
   "metadata": {},
   "outputs": [],
   "source": [
    "from datetime import datetime\n",
    "\n",
    "now = datetime.now()\n",
    "print(now)\n",
    "sub_df = warehouse_df[\n",
    "    (warehouse_df[\"sku_id\"] == \"1001218743130\") & (warehouse_df[\"warehouse_no\"] == \"10\")\n",
    "]\n",
    "\n",
    "print(datetime.now(), datetime.now() - now)"
   ]
  },
  {
   "cell_type": "code",
   "execution_count": null,
   "metadata": {},
   "outputs": [],
   "source": []
  }
 ],
 "metadata": {
  "kernelspec": {
   "display_name": ".venv",
   "language": "python",
   "name": "python3"
  },
  "language_info": {
   "codemirror_mode": {
    "name": "ipython",
    "version": 3
   },
   "file_extension": ".py",
   "mimetype": "text/x-python",
   "name": "python",
   "nbconvert_exporter": "python",
   "pygments_lexer": "ipython3",
   "version": "3.12.7"
  }
 },
 "nbformat": 4,
 "nbformat_minor": 2
}
